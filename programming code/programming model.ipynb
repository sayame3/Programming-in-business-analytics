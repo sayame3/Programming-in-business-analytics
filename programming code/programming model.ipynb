{
 "cells": [
  {
   "cell_type": "code",
   "execution_count": 36,
   "id": "84c6e42a-fe84-4431-980b-1102593acaa7",
   "metadata": {},
   "outputs": [
    {
     "name": "stdout",
     "output_type": "stream",
     "text": [
      "  InvoiceNo StockCode                          Description  Quantity  \\\n",
      "0    536365    85123A   WHITE HANGING HEART T-LIGHT HOLDER         6   \n",
      "1    536365     71053                  WHITE METAL LANTERN         6   \n",
      "2    536365    84406B       CREAM CUPID HEARTS COAT HANGER         8   \n",
      "3    536365    84029G  KNITTED UNION FLAG HOT WATER BOTTLE         6   \n",
      "4    536365    84029E       RED WOOLLY HOTTIE WHITE HEART.         6   \n",
      "\n",
      "          InvoiceDate  UnitPrice  CustomerID         Country  \n",
      "0 2010-12-01 08:26:00       2.55       17850  United Kingdom  \n",
      "1 2010-12-01 08:26:00       3.39       17850  United Kingdom  \n",
      "2 2010-12-01 08:26:00       2.75       17850  United Kingdom  \n",
      "3 2010-12-01 08:26:00       3.39       17850  United Kingdom  \n",
      "4 2010-12-01 08:26:00       3.39       17850  United Kingdom  \n",
      "<class 'pandas.core.frame.DataFrame'>\n",
      "RangeIndex: 401604 entries, 0 to 401603\n",
      "Data columns (total 8 columns):\n",
      " #   Column       Non-Null Count   Dtype         \n",
      "---  ------       --------------   -----         \n",
      " 0   InvoiceNo    401604 non-null  object        \n",
      " 1   StockCode    401604 non-null  object        \n",
      " 2   Description  401604 non-null  object        \n",
      " 3   Quantity     401604 non-null  int64         \n",
      " 4   InvoiceDate  401604 non-null  datetime64[ns]\n",
      " 5   UnitPrice    401604 non-null  float64       \n",
      " 6   CustomerID   401604 non-null  int64         \n",
      " 7   Country      401604 non-null  object        \n",
      "dtypes: datetime64[ns](1), float64(1), int64(2), object(4)\n",
      "memory usage: 24.5+ MB\n",
      "None\n"
     ]
    }
   ],
   "source": [
    "import pandas as pd\n",
    "\n",
    "file_path = \"/Users/sahithyaravi/Downloads/ProcessedData.xlsx\"  \n",
    "data = pd.read_excel(file_path)\n",
    "\n",
    "print(data.head())\n",
    "print(data.info())\n",
    "\n",
    "from sklearn.metrics import classification_report, confusion_matrix, accuracy_score"
   ]
  },
  {
   "cell_type": "code",
   "execution_count": 38,
   "id": "740c964c-7cb8-407a-a15c-bff33e52ca33",
   "metadata": {},
   "outputs": [
    {
     "name": "stdout",
     "output_type": "stream",
     "text": [
      "Filtered Data Shape: (356728, 7)\n",
      "  InvoiceNo StockCode                          Description  Quantity  \\\n",
      "0    536365    85123A   WHITE HANGING HEART T-LIGHT HOLDER         6   \n",
      "1    536365     71053                  WHITE METAL LANTERN         6   \n",
      "2    536365    84406B       CREAM CUPID HEARTS COAT HANGER         8   \n",
      "3    536365    84029G  KNITTED UNION FLAG HOT WATER BOTTLE         6   \n",
      "4    536365    84029E       RED WOOLLY HOTTIE WHITE HEART.         6   \n",
      "\n",
      "          InvoiceDate  UnitPrice  CustomerID  \n",
      "0 2010-12-01 08:26:00       2.55       17850  \n",
      "1 2010-12-01 08:26:00       3.39       17850  \n",
      "2 2010-12-01 08:26:00       2.75       17850  \n",
      "3 2010-12-01 08:26:00       3.39       17850  \n",
      "4 2010-12-01 08:26:00       3.39       17850  \n"
     ]
    }
   ],
   "source": [
    "data = data[data['Country'] == 'United Kingdom']\n",
    "data = data.drop(columns=['Country'])\n",
    "print(\"Filtered Data Shape:\", data.shape)\n",
    "print(data.head())\n"
   ]
  },
  {
   "cell_type": "code",
   "execution_count": 40,
   "id": "f2fa8db7-f83b-40f4-bf23-834d3bc45d55",
   "metadata": {},
   "outputs": [
    {
     "name": "stdout",
     "output_type": "stream",
     "text": [
      "   CustomerID  NumTransactions\n",
      "0       12346         2.000000\n",
      "1       12747         1.222222\n",
      "2       12748        17.230769\n",
      "3       12749         2.000000\n",
      "4       12820         1.000000\n"
     ]
    }
   ],
   "source": [
    "data['Month'] = data['InvoiceDate'].dt.to_period('M')\n",
    "\n",
    "frequency_data = data.groupby(['CustomerID', 'Month']).agg({\n",
    "    'InvoiceNo': 'nunique'  \n",
    "}).reset_index()\n",
    "\n",
    "frequency_data.rename(columns={'InvoiceNo': 'NumTransactions'}, inplace=True)\n",
    "\n",
    "customer_frequency = frequency_data.groupby('CustomerID').agg({\n",
    "    'NumTransactions': 'mean'  \n",
    "}).reset_index()\n",
    "\n",
    "print(customer_frequency.head())\n"
   ]
  },
  {
   "cell_type": "code",
   "execution_count": 42,
   "id": "e3c33813-bef5-4898-bd5c-50b355e2f1c3",
   "metadata": {},
   "outputs": [],
   "source": [
    "customer_frequency['MonthlyPurchases'] = customer_frequency['NumTransactions'] / 12\n"
   ]
  },
  {
   "cell_type": "code",
   "execution_count": 44,
   "id": "d714b124-c939-434f-89c3-6a170ba2c41e",
   "metadata": {},
   "outputs": [
    {
     "name": "stdout",
     "output_type": "stream",
     "text": [
      "FrequencySegment\n",
      "Inactive      2217\n",
      "Occasional    1623\n",
      "Frequent       110\n",
      "Name: count, dtype: int64\n"
     ]
    }
   ],
   "source": [
    "def categorize_frequency(row):\n",
    "\n",
    "    if row ['NumTransactions'] >= 3:\n",
    "        return 'Frequent'\n",
    "   \n",
    "    elif 1 < row['NumTransactions'] < 3:\n",
    "        return 'Occasional'\n",
    "   \n",
    "    elif row['NumTransactions'] <= 1:\n",
    "        return 'Inactive'\n",
    "    else:\n",
    "        return 'Unknown'  \n",
    "customer_frequency['FrequencySegment'] = customer_frequency.apply(categorize_frequency, axis=1)\n",
    "\n",
    "print(customer_frequency['FrequencySegment'].value_counts()) \n"
   ]
  },
  {
   "cell_type": "code",
   "execution_count": 46,
   "id": "e252cf75-5344-4141-8565-cfb34de380a6",
   "metadata": {},
   "outputs": [
    {
     "data": {
      "image/png": "[encoded data removed]",
      "text/plain": [
       "<Figure size 640x480 with 1 Axes>"
      ]
     },
     "metadata": {},
     "output_type": "display_data"
    }
   ],
   "source": [
    "import matplotlib.pyplot as plt\n",
    "\n",
    "customer_frequency['FrequencySegment'].value_counts().plot(kind='pie', color=['red', 'blue', 'green'])\n",
    "plt.title(\"Customer Frequency Segments\")\n",
    "\n",
    "plt.show()\n"
   ]
  },
  {
   "cell_type": "code",
   "execution_count": 48,
   "id": "dcd0a861-f25d-44d9-bf10-982d3f8ad94b",
   "metadata": {},
   "outputs": [
    {
     "name": "stdout",
     "output_type": "stream",
     "text": [
      "  InvoiceNo StockCode                          Description  Quantity  \\\n",
      "0    536365    85123A   WHITE HANGING HEART T-LIGHT HOLDER         6   \n",
      "1    536365     71053                  WHITE METAL LANTERN         6   \n",
      "2    536365    84406B       CREAM CUPID HEARTS COAT HANGER         8   \n",
      "3    536365    84029G  KNITTED UNION FLAG HOT WATER BOTTLE         6   \n",
      "4    536365    84029E       RED WOOLLY HOTTIE WHITE HEART.         6   \n",
      "\n",
      "          InvoiceDate  UnitPrice  CustomerID    Month  TotalRevenue  \n",
      "0 2010-12-01 08:26:00       2.55       17850  2010-12         15.30  \n",
      "1 2010-12-01 08:26:00       3.39       17850  2010-12         20.34  \n",
      "2 2010-12-01 08:26:00       2.75       17850  2010-12         22.00  \n",
      "3 2010-12-01 08:26:00       3.39       17850  2010-12         20.34  \n",
      "4 2010-12-01 08:26:00       3.39       17850  2010-12         20.34  \n"
     ]
    }
   ],
   "source": [
    "data['TotalRevenue'] = data['Quantity'] * data['UnitPrice']\n",
    "\n",
    "print(data.head())\n"
   ]
  },
  {
   "cell_type": "code",
   "execution_count": 50,
   "id": "830c6d7b-b886-4f44-872e-d7c1af7043ba",
   "metadata": {},
   "outputs": [
    {
     "name": "stdout",
     "output_type": "stream",
     "text": [
      "   CustomerID  TotalRevenue\n",
      "0       12346          0.00\n",
      "1       12747       4196.01\n",
      "2       12748      28405.56\n",
      "3       12749       3868.20\n",
      "4       12820        942.34\n"
     ]
    }
   ],
   "source": [
    "customer_revenue = data.groupby('CustomerID').agg({\n",
    "    'TotalRevenue': 'sum'  \n",
    "}).reset_index()\n",
    "print(customer_revenue.head())\n"
   ]
  },
  {
   "cell_type": "code",
   "execution_count": 52,
   "id": "3a4c1d95-eefb-4d6e-9c0d-9718ca87f7f3",
   "metadata": {},
   "outputs": [
    {
     "name": "stdout",
     "output_type": "stream",
     "text": [
      "['Frequent' 'Inactive' 'Occasional']\n"
     ]
    }
   ],
   "source": [
    "customer_data = data.groupby('CustomerID').agg({\n",
    "    'Quantity': 'sum',  \n",
    "    'TotalRevenue': lambda x: (x * data['UnitPrice']).sum(),  \n",
    "    'InvoiceNo': 'nunique',  \n",
    "}).reset_index()\n",
    "\n",
    "customer_data = customer_data.merge(customer_frequency[['CustomerID', 'FrequencySegment']], on='CustomerID')\n",
    "\n",
    "from sklearn.preprocessing import LabelEncoder\n",
    "label_encoder = LabelEncoder()\n",
    "customer_data['SegmentLabel'] = label_encoder.fit_transform(customer_data['FrequencySegment'])\n",
    "\n",
    "print(label_encoder.classes_)  \n"
   ]
  },
  {
   "cell_type": "code",
   "execution_count": 54,
   "id": "a78ffb51-3a33-4df7-a8e3-cecc14ff0682",
   "metadata": {},
   "outputs": [
    {
     "name": "stdout",
     "output_type": "stream",
     "text": [
      "Training set size: (3160, 3)\n",
      "Testing set size: (790, 3)\n"
     ]
    }
   ],
   "source": [
    "from sklearn.model_selection import train_test_split\n",
    "\n",
    "X = pd.get_dummies(customer_data.drop(['CustomerID', 'FrequencySegment', 'SegmentLabel'], axis=1), drop_first=True)\n",
    "y = customer_data['SegmentLabel']\n",
    "\n",
    "X_train, X_test, y_train, y_test = train_test_split(X, y, test_size=0.2, random_state=42)\n",
    "\n",
    "print(\"Training set size:\", X_train.shape)\n",
    "print(\"Testing set size:\", X_test.shape)"
   ]
  },
  {
   "cell_type": "code",
   "execution_count": 56,
   "id": "586a87bc-738e-40d4-9392-967491e1056d",
   "metadata": {},
   "outputs": [
    {
     "name": "stdout",
     "output_type": "stream",
     "text": [
      "Logistic Regression - Classification Report:\n",
      "              precision    recall  f1-score   support\n",
      "\n",
      "           0       1.00      0.16      0.28        25\n",
      "           1       0.83      0.89      0.86       446\n",
      "           2       0.80      0.77      0.78       319\n",
      "\n",
      "    accuracy                           0.82       790\n",
      "   macro avg       0.88      0.61      0.64       790\n",
      "weighted avg       0.82      0.82      0.81       790\n",
      "\n",
      "Logistic Regression - Confusion Matrix:\n",
      "[[  4   7  14]\n",
      " [  0 399  47]\n",
      " [  0  74 245]]\n",
      "Logistic Regression: 82.03%\n"
     ]
    }
   ],
   "source": [
    "from sklearn.linear_model import LogisticRegression\n",
    "\n",
    "# Initialize the Logistic Regression model\n",
    "lr_model = LogisticRegression(random_state=42, max_iter=1000)  \n",
    "\n",
    "\n",
    "lr_model.fit(X_train, y_train)\n",
    "\n",
    "\n",
    "y_pred_lr = lr_model.predict(X_test)\n",
    "\n",
    "\n",
    "print(\"Logistic Regression - Classification Report:\")\n",
    "print(classification_report(y_test, y_pred_lr))\n",
    "print(\"Logistic Regression - Confusion Matrix:\")\n",
    "print(confusion_matrix(y_test, y_pred_lr))\n",
    "accuracy_lr = accuracy_score(y_test, y_pred_lr)\n",
    "print(f\"Logistic Regression: {accuracy_lr:.2%}\")"
   ]
  },
  {
   "cell_type": "code",
   "execution_count": 58,
   "id": "3511cfee-ec2e-4a25-a9a0-d4e8ca1904d1",
   "metadata": {},
   "outputs": [
    {
     "name": "stdout",
     "output_type": "stream",
     "text": [
      "XGBoost - Classification Report:\n",
      "              precision    recall  f1-score   support\n",
      "\n",
      "           0       0.50      0.32      0.39        25\n",
      "           1       0.83      0.86      0.84       446\n",
      "           2       0.77      0.75      0.76       319\n",
      "\n",
      "    accuracy                           0.80       790\n",
      "   macro avg       0.70      0.64      0.66       790\n",
      "weighted avg       0.79      0.80      0.79       790\n",
      "\n",
      "XGBoost - Confusion Matrix:\n",
      "[[  8   7  10]\n",
      " [  0 383  63]\n",
      " [  8  73 238]]\n",
      "XGBoost Accuracy: 79.62%\n"
     ]
    }
   ],
   "source": [
    "from xgboost import XGBClassifier\n",
    "\n",
    "# Initialize the XGBoost model\n",
    "xgb_model = XGBClassifier(random_state=42, eval_metric='logloss')  \n",
    "\n",
    "xgb_model.fit(X_train,y_train)\n",
    "\n",
    "y_pred_xgb = xgb_model.predict(X_test)\n",
    "\n",
    "print(\"XGBoost - Classification Report:\")\n",
    "print(classification_report(y_test, y_pred_xgb))\n",
    "\n",
    "print(\"XGBoost - Confusion Matrix:\")\n",
    "print(confusion_matrix(y_test, y_pred_xgb))\n",
    "\n",
    "accuracy_xgb = accuracy_score(y_test, y_pred_xgb)\n",
    "print(f\"XGBoost Accuracy: {accuracy_xgb:.2%}\")"
   ]
  },
  {
   "cell_type": "code",
   "execution_count": 60,
   "id": "1e1d6a62-7421-40a9-a30d-489e7889592e",
   "metadata": {},
   "outputs": [
    {
     "name": "stdout",
     "output_type": "stream",
     "text": [
      "Random Forest - Classification Report:\n",
      "              precision    recall  f1-score   support\n",
      "\n",
      "           0       0.80      0.32      0.46        25\n",
      "           1       0.86      0.85      0.86       446\n",
      "           2       0.76      0.81      0.78       319\n",
      "\n",
      "    accuracy                           0.82       790\n",
      "   macro avg       0.81      0.66      0.70       790\n",
      "weighted avg       0.82      0.82      0.81       790\n",
      "\n",
      "Random Forest - Confusion Matrix:\n",
      "[[  8   3  14]\n",
      " [  0 381  65]\n",
      " [  2  60 257]]\n",
      "Random Forest: 81.77%\n"
     ]
    }
   ],
   "source": [
    "from sklearn.ensemble import RandomForestClassifier\n",
    "\n",
    "# Initialize the Random Forest model\n",
    "rf_model = RandomForestClassifier(random_state=42, n_estimators=100)\n",
    "\n",
    "rf_model.fit(X_train, y_train)\n",
    "\n",
    "y_pred_rf = rf_model.predict(X_test)\n",
    "\n",
    "print(\"Random Forest - Classification Report:\")\n",
    "print(classification_report(y_test, y_pred_rf))\n",
    "print(\"Random Forest - Confusion Matrix:\")\n",
    "print(confusion_matrix(y_test, y_pred_rf))\n",
    "accuracy_rf = accuracy_score(y_test, y_pred_rf)\n",
    "print(f\"Random Forest: {accuracy_rf:.2%}\")"
   ]
  },
  {
   "cell_type": "code",
   "execution_count": 62,
   "id": "ee5b9752-b25f-4faf-8064-ef988e37e1da",
   "metadata": {},
   "outputs": [
    {
     "name": "stdout",
     "output_type": "stream",
     "text": [
      "Fitting 5 folds for each of 324 candidates, totalling 1620 fits\n",
      "Best Parameters: {'max_depth': 10, 'max_features': 'sqrt', 'min_samples_leaf': 2, 'min_samples_split': 10, 'n_estimators': 100}\n",
      "Best Cross-Validation Accuracy: 0.8265822784810126\n",
      "Tuned Random Forest - Classification Report:\n",
      "              precision    recall  f1-score   support\n",
      "\n",
      "           0       0.90      0.36      0.51        25\n",
      "           1       0.86      0.88      0.87       446\n",
      "           2       0.80      0.81      0.81       319\n",
      "\n",
      "    accuracy                           0.84       790\n",
      "   macro avg       0.85      0.68      0.73       790\n",
      "weighted avg       0.84      0.84      0.83       790\n",
      "\n",
      "Tuned Random Forest - Confusion Matrix:\n",
      "[[  9   5  11]\n",
      " [  0 394  52]\n",
      " [  1  60 258]]\n",
      "Tuned Random Forest Accuracy: 83.67%\n"
     ]
    },
    {
     "data": {
      "image/png": "[encoded data removed]",
      "text/plain": [
       "<Figure size 800x600 with 2 Axes>"
      ]
     },
     "metadata": {},
     "output_type": "display_data"
    }
   ],
   "source": [
    "from sklearn.model_selection import GridSearchCV\n",
    "import seaborn as sns\n",
    "\n",
    "# Define the parameter grid\n",
    "param_grid = {\n",
    "    'n_estimators': [50, 100, 200],        # Number of trees in the forest\n",
    "    'max_depth': [None, 10, 20, 30],       # Maximum depth of each tree\n",
    "    'min_samples_split': [2, 5, 10],       # Minimum number of samples to split an internal node\n",
    "    'min_samples_leaf': [1, 2, 4],         # Minimum number of samples to be at a leaf node\n",
    "    'max_features': ['sqrt', 'log2', None] # Number of features to consider at each split\n",
    "}\n",
    "\n",
    "# Initialize the Random Forest model\n",
    "rf_model = RandomForestClassifier(random_state=42)\n",
    "\n",
    "# Initialize GridSearchCV\n",
    "grid_search_rf = GridSearchCV(\n",
    "    estimator=rf_model,\n",
    "    param_grid=param_grid,\n",
    "    scoring='accuracy',  # Metric to optimize\n",
    "    cv=5,                # 5-fold cross-validation\n",
    "    verbose=1,           # Display progress\n",
    "    n_jobs=-1            # Use all CPU cores\n",
    ")\n",
    "\n",
    "# Fit GridSearchCV\n",
    "grid_search_rf.fit(X_train, y_train)\n",
    "\n",
    "# Best parameters and score\n",
    "print(\"Best Parameters:\", grid_search_rf.best_params_)\n",
    "print(\"Best Cross-Validation Accuracy:\", grid_search_rf.best_score_)\n",
    "\n",
    "# Use the best model for predictions\n",
    "best_rf_model = grid_search_rf.best_estimator_\n",
    "y_pred_rf_best = best_rf_model.predict(X_test)\n",
    "\n",
    "# Evaluate the best model\n",
    "print(\"Tuned Random Forest - Classification Report:\")\n",
    "print(classification_report(y_test, y_pred_rf_best))\n",
    "print(\"Tuned Random Forest - Confusion Matrix:\")\n",
    "print(confusion_matrix(y_test, y_pred_rf_best))\n",
    "\n",
    "# Calculate and display accuracy\n",
    "accuracy_rf_best = accuracy_score(y_test, y_pred_rf_best)\n",
    "print(f\"Tuned Random Forest Accuracy: {accuracy_rf_best:.2%}\")\n",
    "\n",
    "cm = confusion_matrix(y_test, y_pred_rf_best)\n",
    "\n",
    "# Define class labels (adjust according to your target labels)\n",
    "class_labels = ['Inactive', 'Occasional', 'Frequent']\n",
    "\n",
    "# Plot the heatmap\n",
    "plt.figure(figsize=(8, 6))\n",
    "sns.heatmap(cm, annot=True, fmt='d', cmap='Blues', xticklabels=class_labels, yticklabels=class_labels)\n",
    "plt.title('Confusion Matrix for Tuned Random Forest')\n",
    "plt.xlabel('Predicted Labels')\n",
    "plt.ylabel('Actual Labels')\n",
    "plt.show()\n"
   ]
  },
  {
   "cell_type": "code",
   "execution_count": 64,
   "id": "87f1a10f-ef80-415b-addf-f6789df3f0a1",
   "metadata": {},
   "outputs": [
    {
     "name": "stdout",
     "output_type": "stream",
     "text": [
      "Model saved as 'tuned_random_forest_model.pkl'\n"
     ]
    }
   ],
   "source": [
    "import joblib\n",
    "\n",
    "# Save the trained model to a file\n",
    "joblib.dump(best_rf_model, 'tuned_random_forest_model.pkl')\n",
    "\n",
    "print(\"Model saved as 'tuned_random_forest_model.pkl'\")"
   ]
  },
  {
   "cell_type": "code",
   "execution_count": 66,
   "id": "07761625-c66a-49af-b8b2-f444869a549f",
   "metadata": {},
   "outputs": [
    {
     "name": "stdout",
     "output_type": "stream",
     "text": [
      "Model loaded successfully.\n"
     ]
    }
   ],
   "source": [
    "# Load the model from the file\n",
    "loaded_model = joblib.load('tuned_random_forest_model.pkl')\n",
    "\n",
    "print(\"Model loaded successfully.\")\n",
    "\n",
    "# Example: Make predictions with the loaded model\n",
    "y_pred_loaded = loaded_model.predict(X_test)"
   ]
  }
 ],
 "metadata": {
  "kernelspec": {
   "display_name": "Python 3 (ipykernel)",
   "language": "python",
   "name": "python3"
  },
  "language_info": {
   "codemirror_mode": {
    "name": "ipython",
    "version": 3
   },
   "file_extension": ".py",
   "mimetype": "text/x-python",
   "name": "python",
   "nbconvert_exporter": "python",
   "pygments_lexer": "ipython3",
   "version": "3.12.7"
  }
 },
 "nbformat": 4,
 "nbformat_minor": 5
}
